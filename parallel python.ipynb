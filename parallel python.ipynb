{
 "cells": [
  {
   "cell_type": "markdown",
   "id": "aff1d3ce-d1c5-4443-acc6-323df74040ec",
   "metadata": {},
   "source": [
    "## `Process vs Thread`"
   ]
  },
  {
   "cell_type": "code",
   "execution_count": 1,
   "id": "aa13ca61",
   "metadata": {},
   "outputs": [],
   "source": [
    "import time\n",
    "from concurrent import futures\n",
    "from tqdm import tqdm\n",
    "from important_library import io_task, cpu_task"
   ]
  },
  {
   "cell_type": "code",
   "execution_count": 2,
   "id": "cf2840c0-3833-45e3-b29b-02fcb3cde0aa",
   "metadata": {},
   "outputs": [],
   "source": [
    "def run_example(n_workers: 'int', n_tasks: 'int', workload: 'str', worker: 'str') -> 'None':\n",
    "    pool_executor = futures.ThreadPoolExecutor if worker == \"thread\" else futures.ProcessPoolExecutor\n",
    "    with pool_executor(n_workers) as executor:\n",
    "        routine = io_task if workload == \"io\" else cpu_task\n",
    "        tasks = [executor.submit(routine, ) for _ in range(n_tasks)]\n",
    "        for task in tqdm(futures.as_completed(tasks), total=len(tasks)):\n",
    "            _ = task.result()"
   ]
  },
  {
   "cell_type": "code",
   "execution_count": 3,
   "id": "99fba810",
   "metadata": {},
   "outputs": [
    {
     "name": "stderr",
     "output_type": "stream",
     "text": [
      "100%|██████████| 24/24 [00:00<00:00, 98.08it/s] \n"
     ]
    },
    {
     "name": "stdout",
     "output_type": "stream",
     "text": [
      "[# threads = 1, # tasks = 24, workload = cpu]\n",
      "Total time 0.6298 s\n",
      "------------------------------------------------------------\n"
     ]
    },
    {
     "name": "stderr",
     "output_type": "stream",
     "text": [
      "100%|██████████| 24/24 [00:00<00:00, 68.80it/s] \n"
     ]
    },
    {
     "name": "stdout",
     "output_type": "stream",
     "text": [
      "[# threads = 2, # tasks = 24, workload = cpu]\n",
      "Total time 0.6751 s\n",
      "------------------------------------------------------------\n"
     ]
    },
    {
     "name": "stderr",
     "output_type": "stream",
     "text": [
      "100%|██████████| 24/24 [00:00<00:00, 667.46it/s]\n"
     ]
    },
    {
     "name": "stdout",
     "output_type": "stream",
     "text": [
      "[# threads = 4, # tasks = 24, workload = cpu]\n",
      "Total time 0.6779 s\n",
      "------------------------------------------------------------\n"
     ]
    },
    {
     "name": "stderr",
     "output_type": "stream",
     "text": [
      "100%|██████████| 24/24 [01:11<00:00,  2.99s/it]\n"
     ]
    },
    {
     "name": "stdout",
     "output_type": "stream",
     "text": [
      "[# threads = 1, # tasks = 24, workload = io]\n",
      "Total time 71.8136 s\n",
      "------------------------------------------------------------\n"
     ]
    },
    {
     "name": "stderr",
     "output_type": "stream",
     "text": [
      "100%|██████████| 24/24 [00:46<00:00,  1.94s/it]\n"
     ]
    },
    {
     "name": "stdout",
     "output_type": "stream",
     "text": [
      "[# threads = 2, # tasks = 24, workload = io]\n",
      "Total time 46.4839 s\n",
      "------------------------------------------------------------\n"
     ]
    },
    {
     "name": "stderr",
     "output_type": "stream",
     "text": [
      "100%|██████████| 24/24 [00:44<00:00,  1.86s/it]"
     ]
    },
    {
     "name": "stdout",
     "output_type": "stream",
     "text": [
      "[# threads = 4, # tasks = 24, workload = io]\n",
      "Total time 44.7322 s\n",
      "------------------------------------------------------------\n"
     ]
    },
    {
     "name": "stderr",
     "output_type": "stream",
     "text": [
      "\n"
     ]
    }
   ],
   "source": [
    "for workload in [\"cpu\", \"io\"]:\n",
    "    for n_workers, n_tasks in [(1, 24), (2, 24), (4, 24)]:\n",
    "        start = time.time()\n",
    "        run_example(n_workers=n_workers, n_tasks=n_tasks, workload=workload, worker=\"thread\")\n",
    "        print(f\"[# threads = {n_workers}, # tasks = {n_tasks}, workload = {workload}]\")\n",
    "        print(f\"Total time {time.time() - start:0.4f} s\")\n",
    "        print(\"-\" * 60)"
   ]
  },
  {
   "cell_type": "code",
   "execution_count": 4,
   "id": "1e89c3b1",
   "metadata": {},
   "outputs": [
    {
     "name": "stderr",
     "output_type": "stream",
     "text": [
      "  0%|          | 0/24 [00:00<?, ?it/s]"
     ]
    },
    {
     "name": "stderr",
     "output_type": "stream",
     "text": [
      "100%|██████████| 24/24 [00:00<00:00, 34.44it/s]"
     ]
    },
    {
     "name": "stdout",
     "output_type": "stream",
     "text": [
      "[# processes = 1, workload = cpu]\n",
      "Total time 0.7136 s\n",
      "------------------------------------------------------------\n"
     ]
    },
    {
     "name": "stderr",
     "output_type": "stream",
     "text": [
      "\n",
      "100%|██████████| 24/24 [00:00<00:00, 65.22it/s]"
     ]
    },
    {
     "name": "stdout",
     "output_type": "stream",
     "text": [
      "[# processes = 2, workload = cpu]\n",
      "Total time 0.3833 s\n",
      "------------------------------------------------------------\n"
     ]
    },
    {
     "name": "stderr",
     "output_type": "stream",
     "text": [
      "\n",
      "100%|██████████| 24/24 [00:00<00:00, 103.05it/s]"
     ]
    },
    {
     "name": "stdout",
     "output_type": "stream",
     "text": [
      "[# processes = 4, workload = cpu]\n",
      "Total time 0.2599 s\n",
      "------------------------------------------------------------\n"
     ]
    },
    {
     "name": "stderr",
     "output_type": "stream",
     "text": [
      "\n",
      "100%|██████████| 24/24 [01:11<00:00,  2.98s/it]"
     ]
    },
    {
     "name": "stdout",
     "output_type": "stream",
     "text": [
      "[# processes = 1, workload = io]\n",
      "Total time 71.4866 s\n",
      "------------------------------------------------------------\n"
     ]
    },
    {
     "name": "stderr",
     "output_type": "stream",
     "text": [
      "\n",
      "100%|██████████| 24/24 [00:49<00:00,  2.06s/it]"
     ]
    },
    {
     "name": "stdout",
     "output_type": "stream",
     "text": [
      "[# processes = 2, workload = io]\n",
      "Total time 49.4381 s\n",
      "------------------------------------------------------------\n"
     ]
    },
    {
     "name": "stderr",
     "output_type": "stream",
     "text": [
      "\n",
      "100%|██████████| 24/24 [00:31<00:00,  1.33s/it]"
     ]
    },
    {
     "name": "stdout",
     "output_type": "stream",
     "text": [
      "[# processes = 4, workload = io]\n",
      "Total time 31.9222 s\n",
      "------------------------------------------------------------\n"
     ]
    },
    {
     "name": "stderr",
     "output_type": "stream",
     "text": [
      "\n"
     ]
    }
   ],
   "source": [
    "for workload in [\"cpu\", \"io\"]:\n",
    "    for n_workers, n_tasks in [(1, 24), (2, 24), (4, 24)]:\n",
    "        start = time.time()\n",
    "        run_example(n_workers=n_workers, n_tasks=n_tasks, workload=workload, worker=\"process\")\n",
    "        print(f\"[# processes = {n_workers}, workload = {workload}]\")\n",
    "        print(f\"Total time {time.time() - start:0.4f} s\")\n",
    "        print(\"-\" * 60)"
   ]
  },
  {
   "cell_type": "markdown",
   "id": "6c037121",
   "metadata": {},
   "source": [
    "It's more faster and scalable to use processes in every way. What's the catch?\n",
    "\n",
    "**Let's take a look at resource consumption ...**\n",
    "```bash\n",
    "! ps -x | grep 'Python.app' | wc\n",
    "```"
   ]
  },
  {
   "cell_type": "code",
   "execution_count": 145,
   "id": "21af72fa",
   "metadata": {},
   "outputs": [],
   "source": [
    "import psutil\n",
    "def print_mem():\n",
    "    total_memory = 0\n",
    "    for proc in psutil.process_iter(['pid', 'name', 'memory_info']):\n",
    "        if 'Python' in proc.info['name']:\n",
    "            total_memory += proc.info['memory_info'].rss\n",
    "    print(f\"Total Python's memory: {total_memory / 1024 / 1024} MB\")"
   ]
  },
  {
   "cell_type": "code",
   "execution_count": 146,
   "id": "d3da23d1",
   "metadata": {},
   "outputs": [],
   "source": [
    "def run_example_with_mem_info(n_workers: 'int', n_tasks: 'int', workload: 'str', worker: 'str') -> 'None':\n",
    "    pool_executor = futures.ThreadPoolExecutor if worker == \"thread\" else futures.ProcessPoolExecutor\n",
    "    with pool_executor(n_workers) as executor:\n",
    "        routine = io_task if workload == \"io\" else cpu_task\n",
    "        tasks = [executor.submit(routine, ) for _ in range(n_tasks)]\n",
    "        time.sleep(1)\n",
    "        print_mem()\n",
    "        for task in tqdm(futures.as_completed(tasks), total=len(tasks)):\n",
    "            _ = task.result()"
   ]
  },
  {
   "cell_type": "code",
   "execution_count": 148,
   "id": "aedeefea",
   "metadata": {},
   "outputs": [
    {
     "name": "stdout",
     "output_type": "stream",
     "text": [
      "Total Python's memory: 58.71875 MB\n"
     ]
    }
   ],
   "source": [
    "print_mem()"
   ]
  },
  {
   "cell_type": "code",
   "execution_count": 149,
   "id": "fb33a5fb",
   "metadata": {},
   "outputs": [
    {
     "name": "stdout",
     "output_type": "stream",
     "text": [
      "Total Python's memory: 202.84375 MB\n"
     ]
    },
    {
     "name": "stderr",
     "output_type": "stream",
     "text": [
      "100%|██████████| 10/10 [00:00<00:00, 48099.82it/s]\n"
     ]
    }
   ],
   "source": [
    "run_example_with_mem_info(n_workers=10, n_tasks=10, workload=\"cpu\", worker=\"process\")"
   ]
  },
  {
   "cell_type": "markdown",
   "id": "e1601821-3444-4caf-9d62-f953f6c6e21f",
   "metadata": {},
   "source": [
    "## `Execution workflow`"
   ]
  },
  {
   "cell_type": "code",
   "execution_count": 8,
   "id": "6fb0596c-7917-4cb9-badc-5a9c35b054e4",
   "metadata": {},
   "outputs": [],
   "source": [
    "def print_slogan():\n",
    "    print(\"The real science\")"
   ]
  },
  {
   "cell_type": "code",
   "execution_count": 9,
   "id": "92255763",
   "metadata": {},
   "outputs": [
    {
     "name": "stdout",
     "output_type": "stream",
     "text": [
      "  2           0 LOAD_GLOBAL              0 (print)\n",
      "              2 LOAD_CONST               1 ('The real science')\n",
      "              4 CALL_FUNCTION            1\n",
      "              6 POP_TOP\n",
      "              8 LOAD_CONST               0 (None)\n",
      "             10 RETURN_VALUE\n"
     ]
    }
   ],
   "source": [
    "import dis\n",
    "dis.dis(print_slogan)"
   ]
  },
  {
   "cell_type": "code",
   "execution_count": 10,
   "id": "c0009283-4179-4abf-9154-4b990d3c45b4",
   "metadata": {},
   "outputs": [
    {
     "name": "stdout",
     "output_type": "stream",
     "text": [
      "/Users/zinchse/GitHub/parallel_python/important_library.py:\n",
      "\n",
      "import time\n",
      "\n",
      "\n",
      "N_ITER: 'int' = 1_000_000\n",
      "\n",
      "\n",
      "def cpu_task() -> 'int':\n",
      "    res: 'int' = 0\n",
      "    for i in range(N_ITER):\n",
      "        if not i % 2023:\n",
      "            res += i    \n",
      "    return res\n",
      "\n",
      "\n",
      "def io_task() -> 'None':\n",
      "    for i in range(N_ITER):\n",
      "        time.sleep(0.00000001)\n"
     ]
    }
   ],
   "source": [
    "file = \"/Users/zinchse/GitHub/parallel_python/important_library.py\"\n",
    "with open(file, \"r\") as f:\n",
    "    txt = f.readlines()\n",
    "    print(f\"{file}:\\n\")\n",
    "    for l in txt:\n",
    "        print(l, end=\"\")"
   ]
  },
  {
   "cell_type": "code",
   "execution_count": 11,
   "id": "5ce3ebbc-e97a-46f5-9362-2e57ba72f12e",
   "metadata": {},
   "outputs": [],
   "source": [
    "import py_compile\n",
    "path_to_compiled_file = py_compile.compile(file)"
   ]
  },
  {
   "cell_type": "code",
   "execution_count": 12,
   "id": "da6420c4-ce12-4f15-9972-dbfc13108d42",
   "metadata": {},
   "outputs": [
    {
     "name": "stdout",
     "output_type": "stream",
     "text": [
      "  1           0 SETUP_ANNOTATIONS\n",
      "              2 LOAD_CONST               0 (0)\n",
      "              4 LOAD_CONST               1 (None)\n",
      "              6 IMPORT_NAME              0 (time)\n",
      "              8 STORE_NAME               0 (time)\n",
      "\n",
      "  4          10 LOAD_CONST               2 (1000000)\n",
      "             12 STORE_NAME               1 (N_ITER)\n",
      "             14 LOAD_CONST               3 ('int')\n",
      "             16 LOAD_NAME                2 (__annotations__)\n",
      "             18 LOAD_CONST               4 ('N_ITER')\n",
      "             20 STORE_SUBSCR\n",
      "\n",
      "  7          22 LOAD_CONST               3 ('int')\n",
      "             24 LOAD_CONST               5 (('return',))\n",
      "             26 BUILD_CONST_KEY_MAP      1\n",
      "             28 LOAD_CONST               6 (<code object cpu_task at 0x109a1a450, file \"/Users/zinchse/GitHub/parallel_python/important_library.py\", line 7>)\n",
      "             30 LOAD_CONST               7 ('cpu_task')\n",
      "             32 MAKE_FUNCTION            4 (annotations)\n",
      "             34 STORE_NAME               3 (cpu_task)\n",
      "\n",
      " 15          36 LOAD_CONST               8 ('None')\n",
      "             38 LOAD_CONST               5 (('return',))\n",
      "             40 BUILD_CONST_KEY_MAP      1\n",
      "             42 LOAD_CONST               9 (<code object io_task at 0x109e58df0, file \"/Users/zinchse/GitHub/parallel_python/important_library.py\", line 15>)\n",
      "             44 LOAD_CONST              10 ('io_task')\n",
      "             46 MAKE_FUNCTION            4 (annotations)\n",
      "             48 STORE_NAME               4 (io_task)\n",
      "             50 LOAD_CONST               1 (None)\n",
      "             52 RETURN_VALUE\n",
      "\n",
      "Disassembly of <code object cpu_task at 0x109a1a450, file \"/Users/zinchse/GitHub/parallel_python/important_library.py\", line 7>:\n",
      "  8           0 LOAD_CONST               1 (0)\n",
      "              2 STORE_FAST               0 (res)\n",
      "\n",
      "  9           4 LOAD_GLOBAL              0 (range)\n",
      "              6 LOAD_GLOBAL              1 (N_ITER)\n",
      "              8 CALL_FUNCTION            1\n",
      "             10 GET_ITER\n",
      "        >>   12 FOR_ITER                20 (to 34)\n",
      "             14 STORE_FAST               1 (i)\n",
      "\n",
      " 10          16 LOAD_FAST                1 (i)\n",
      "             18 LOAD_CONST               2 (2023)\n",
      "             20 BINARY_MODULO\n",
      "             22 POP_JUMP_IF_TRUE        12\n",
      "\n",
      " 11          24 LOAD_FAST                0 (res)\n",
      "             26 LOAD_FAST                1 (i)\n",
      "             28 INPLACE_ADD\n",
      "             30 STORE_FAST               0 (res)\n",
      "             32 JUMP_ABSOLUTE           12\n",
      "\n",
      " 12     >>   34 LOAD_FAST                0 (res)\n",
      "             36 RETURN_VALUE\n",
      "\n",
      "Disassembly of <code object io_task at 0x109e58df0, file \"/Users/zinchse/GitHub/parallel_python/important_library.py\", line 15>:\n",
      " 16           0 LOAD_GLOBAL              0 (range)\n",
      "              2 LOAD_GLOBAL              1 (N_ITER)\n",
      "              4 CALL_FUNCTION            1\n",
      "              6 GET_ITER\n",
      "        >>    8 FOR_ITER                14 (to 24)\n",
      "             10 STORE_FAST               0 (i)\n",
      "\n",
      " 17          12 LOAD_GLOBAL              2 (time)\n",
      "             14 LOAD_METHOD              3 (sleep)\n",
      "             16 LOAD_CONST               1 (1e-08)\n",
      "             18 CALL_METHOD              1\n",
      "             20 POP_TOP\n",
      "             22 JUMP_ABSOLUTE            8\n",
      "        >>   24 LOAD_CONST               0 (None)\n",
      "             26 RETURN_VALUE\n"
     ]
    }
   ],
   "source": [
    "import marshal\n",
    "with open(path_to_compiled_file, 'rb') as f:\n",
    "    f.read(16) \n",
    "    code = marshal.load(f)\n",
    "dis.dis(code)"
   ]
  },
  {
   "cell_type": "code",
   "execution_count": 14,
   "id": "d640b293-2ad1-4237-825d-d68f5fec77bb",
   "metadata": {},
   "outputs": [
    {
     "name": "stdout",
     "output_type": "stream",
     "text": [
      "LOAD_GLOBAL\n",
      "LOAD_GLOBAL\n",
      "CALL_FUNCTION\n",
      "GET_ITER\n",
      "FOR_ITER\n",
      "STORE_FAST\n",
      "LOAD_GLOBAL\n",
      "LOAD_METHOD\n",
      "LOAD_CONST\n",
      "CALL_METHOD\n",
      "POP_TOP\n",
      "JUMP_ABSOLUTE\n",
      "LOAD_CONST\n",
      "RETURN_VALUE\n"
     ]
    }
   ],
   "source": [
    "for instr in dis.Bytecode(io_task):\n",
    "    print(instr.opname)"
   ]
  },
  {
   "cell_type": "markdown",
   "id": "b17aa2d1",
   "metadata": {},
   "source": [
    "## `Cython & Threads & GIL & cpu bound task`"
   ]
  },
  {
   "cell_type": "code",
   "execution_count": 15,
   "id": "084280f3",
   "metadata": {},
   "outputs": [],
   "source": [
    "import numpy as np"
   ]
  },
  {
   "cell_type": "code",
   "execution_count": 16,
   "id": "cb1bdb21",
   "metadata": {},
   "outputs": [],
   "source": [
    "def integrate_square(\n",
    "        l: 'float', \n",
    "        r: 'float', \n",
    "        n_steps: 'int'\n",
    "        ):\n",
    "    s = 0\n",
    "    h = (r - l) / n_steps\n",
    "    for i in range(n_steps):\n",
    "        x = l + i * h\n",
    "        f = x ** 2\n",
    "        s += f * h \n",
    "    return s"
   ]
  },
  {
   "cell_type": "code",
   "execution_count": 17,
   "id": "1994d7e2",
   "metadata": {},
   "outputs": [
    {
     "name": "stdout",
     "output_type": "stream",
     "text": [
      "It works!\n"
     ]
    }
   ],
   "source": [
    "assert np.isclose(integrate_square(0, 5, 1000000), 5 ** 3 / 3), \"Need to increase `steps`!\"\n",
    "print(\"It works!\")"
   ]
  },
  {
   "cell_type": "code",
   "execution_count": 18,
   "id": "bd29ec02",
   "metadata": {},
   "outputs": [
    {
     "name": "stdout",
     "output_type": "stream",
     "text": [
      "CPU times: user 121 ms, sys: 2.2 ms, total: 124 ms\n",
      "Wall time: 123 ms\n"
     ]
    },
    {
     "data": {
      "text/plain": [
       "41.66660416668747"
      ]
     },
     "execution_count": 18,
     "metadata": {},
     "output_type": "execute_result"
    }
   ],
   "source": [
    "%%time\n",
    "integrate_square(0, 5, 1_000_000)"
   ]
  },
  {
   "cell_type": "code",
   "execution_count": 19,
   "id": "505abcf5",
   "metadata": {},
   "outputs": [],
   "source": [
    "def master_py(l: 'int', r: 'int', n_jobs: 'int', n_steps: 'int'):    \n",
    "    subranges, subrange_length = [], (r - l) / n_jobs\n",
    "\n",
    "    cur_l = 0\n",
    "    for i in range(n_jobs):\n",
    "        cur_l = cur_l + i * subrange_length\n",
    "        cur_r = cur_l + subrange_length\n",
    "        subranges.append((cur_l, cur_r))\n",
    "    \n",
    "    results = 0\n",
    "    with futures.ThreadPoolExecutor(n_jobs) as executor:\n",
    "        tasks = [executor.submit(integrate_square, l, r, n_steps//n_jobs) for l, r in subranges]\n",
    "        for task in futures.as_completed(tasks):\n",
    "            results += task.result()\n",
    "    \n",
    "    return results"
   ]
  },
  {
   "cell_type": "code",
   "execution_count": 20,
   "id": "03958b76",
   "metadata": {},
   "outputs": [
    {
     "name": "stdout",
     "output_type": "stream",
     "text": [
      "110 ms ± 1.87 ms per loop (mean ± std. dev. of 7 runs, 10 loops each)\n"
     ]
    }
   ],
   "source": [
    "%%timeit -n10\n",
    "integrate_square(l=0, r=5, n_steps=1_000_000)"
   ]
  },
  {
   "cell_type": "code",
   "execution_count": 21,
   "id": "78df75b4",
   "metadata": {},
   "outputs": [
    {
     "name": "stdout",
     "output_type": "stream",
     "text": [
      "92.1 ms ± 895 µs per loop (mean ± std. dev. of 7 runs, 10 loops each)\n"
     ]
    }
   ],
   "source": [
    "%%timeit -n10\n",
    "master_py(l=0, r=5, n_jobs=1, n_steps=1_000_000)"
   ]
  },
  {
   "cell_type": "code",
   "execution_count": 22,
   "id": "a5a9454f",
   "metadata": {},
   "outputs": [
    {
     "name": "stdout",
     "output_type": "stream",
     "text": [
      "92.4 ms ± 1.06 ms per loop (mean ± std. dev. of 7 runs, 10 loops each)\n"
     ]
    }
   ],
   "source": [
    "%%timeit -n10\n",
    "master_py(l=0, r=5, n_jobs=2, n_steps=1_000_000)"
   ]
  },
  {
   "cell_type": "code",
   "execution_count": 23,
   "id": "adc8c47f",
   "metadata": {},
   "outputs": [
    {
     "name": "stdout",
     "output_type": "stream",
     "text": [
      "93.1 ms ± 1.25 ms per loop (mean ± std. dev. of 7 runs, 10 loops each)\n"
     ]
    }
   ],
   "source": [
    "%%timeit -n10\n",
    "master_py(l=0, r=5, n_jobs=4, n_steps=1_000_000)"
   ]
  },
  {
   "cell_type": "markdown",
   "id": "96453f31",
   "metadata": {},
   "source": [
    "integrate_square.cyx\n",
    "```python\n",
    "def integrate_square(int l, int r, int n_steps):\n",
    "    cdef int i\n",
    "    cdef double s = 0\n",
    "    cdef double h = (r - l) / n_steps\n",
    "    cdef double x, f\n",
    "    for i in range(n_steps):\n",
    "        x = l + i * h\n",
    "        f = x ** 2\n",
    "        s += f * h \n",
    "    return s\n",
    "```"
   ]
  },
  {
   "cell_type": "code",
   "execution_count": 24,
   "id": "b00b9ec5",
   "metadata": {},
   "outputs": [],
   "source": [
    "!cythonize -i integrate_square_c\n",
    "import pyximport\n",
    "pyximport.install()\n",
    "import integrate_square_c"
   ]
  },
  {
   "cell_type": "code",
   "execution_count": 25,
   "id": "ac3ed218",
   "metadata": {},
   "outputs": [
    {
     "data": {
      "text/plain": [
       "41.66666010107487"
      ]
     },
     "execution_count": 25,
     "metadata": {},
     "output_type": "execute_result"
    }
   ],
   "source": [
    "integrate_square_c.integrate_square(0, 5, 10000000)"
   ]
  },
  {
   "cell_type": "code",
   "execution_count": 26,
   "id": "dbdd0405",
   "metadata": {},
   "outputs": [],
   "source": [
    "def master_c(l: 'float', r: 'float', n_jobs: 'int', n_steps: 'int'):    \n",
    "    subranges, subrange_length = [], (r - l) / n_jobs\n",
    "\n",
    "    cur_l = 0\n",
    "    for i in range(n_jobs):\n",
    "        cur_l = cur_l + i * subrange_length\n",
    "        cur_r = cur_l + subrange_length\n",
    "        subranges.append((cur_l, cur_r))\n",
    "    \n",
    "    results = 0\n",
    "    with futures.ThreadPoolExecutor(n_jobs) as executor:\n",
    "        tasks = [executor.submit(integrate_square_c.integrate_square, l, r, n_steps//n_jobs) for l, r in subranges]\n",
    "        for task in futures.as_completed(tasks):\n",
    "            results += task.result()\n",
    "    \n",
    "    return results"
   ]
  },
  {
   "cell_type": "code",
   "execution_count": 27,
   "id": "833e536c",
   "metadata": {},
   "outputs": [
    {
     "name": "stdout",
     "output_type": "stream",
     "text": [
      "10.1 ms ± 738 µs per loop (mean ± std. dev. of 7 runs, 10 loops each)\n"
     ]
    }
   ],
   "source": [
    "%%timeit -n10\n",
    "master_c(l=0, r=5, n_jobs=1, n_steps=10_000_000)"
   ]
  },
  {
   "cell_type": "code",
   "execution_count": 28,
   "id": "5f90aeff",
   "metadata": {},
   "outputs": [
    {
     "name": "stdout",
     "output_type": "stream",
     "text": [
      "3.57 ms ± 1.45 ms per loop (mean ± std. dev. of 7 runs, 10 loops each)\n"
     ]
    }
   ],
   "source": [
    "%%timeit -n10\n",
    "master_c(l=0, r=5, n_jobs=10, n_steps=10_000_000)"
   ]
  },
  {
   "cell_type": "code",
   "execution_count": 29,
   "id": "7832260f",
   "metadata": {},
   "outputs": [
    {
     "name": "stdout",
     "output_type": "stream",
     "text": [
      "93.6 ms ± 1.37 ms per loop (mean ± std. dev. of 7 runs, 10 loops each)\n"
     ]
    }
   ],
   "source": [
    "%%timeit -n10\n",
    "master_py(l=0, r=5, n_jobs=10, n_steps=1_000_000)"
   ]
  },
  {
   "cell_type": "code",
   "execution_count": 30,
   "id": "549eb0f5",
   "metadata": {},
   "outputs": [
    {
     "name": "stdout",
     "output_type": "stream",
     "text": [
      "92.8 ms ± 1.53 ms per loop (mean ± std. dev. of 7 runs, 10 loops each)\n"
     ]
    }
   ],
   "source": [
    "%%timeit -n10\n",
    "master_py(l=0, r=5, n_jobs=1, n_steps=1_000_000)"
   ]
  },
  {
   "cell_type": "code",
   "execution_count": 31,
   "id": "85aafa32",
   "metadata": {},
   "outputs": [],
   "source": [
    "import matplotlib.pyplot as plt\n",
    "import numpy as np\n",
    "from timeit import repeat\n",
    "\n",
    "\n",
    "def plot_dependency(l: 'float', r: 'float', n_jobs_to_try: 'List[int]', n_steps: 'int', save: 'bool' = False):\n",
    "    py_times = []\n",
    "    c_times = []\n",
    "    \n",
    "    for n_jobs in n_jobs_to_try:\n",
    "        py_times.append(\n",
    "            1000 * np.mean(repeat(lambda: master_py(l, r, n_jobs, n_steps), number=1, repeat=10))\n",
    "        )\n",
    "        c_times.append(\n",
    "            1000 * np.mean(repeat(lambda: master_c(l, r, n_jobs, 100 * n_steps), number=1, repeat=10))\n",
    "        )\n",
    "    \n",
    "    plt.style.use(\"dark_background\")\n",
    "    _, ax = plt.subplots(1, 1, figsize=(16, 8))\n",
    "    plt.title(f\"Cython threads (\\wo GIL) vs Python threads (\\w GIL) on CPU bound task\")\n",
    "    for times, color, label in ((py_times, \"cyan\", \"Python\"), (c_times, \"orange\", \"Cython\")):\n",
    "        ax.plot(\n",
    "            n_jobs_to_try, times, marker='o', color=color,\n",
    "            label=label, alpha=0.8, linewidth=7, markersize=20\n",
    "        )\n",
    "    ax.set_xlabel('# Threads')\n",
    "    ax.set_ylabel('Time (ms)')\n",
    "    ax.grid(True)\n",
    "    ax.legend()\n",
    "    ax.set_xlim([0.5, n_jobs_to_try[-1] + 0.5])\n",
    "    ax.set_ylim([0.0, max(c_times + py_times) * 1.15])\n",
    "    if save:\n",
    "        ax.spines['top'].set_color('gray')\n",
    "        ax.spines['bottom'].set_color('gray')\n",
    "        ax.spines['left'].set_color('gray')\n",
    "        ax.spines['right'].set_color('gray')\n",
    "        ax.title.set_color('gray')\n",
    "        ax.xaxis.label.set_color('gray')\n",
    "        ax.yaxis.label.set_color('gray')\n",
    "        ax.grid(True, color='gray', linestyle='--', linewidth=0.5)\n",
    "        plt.savefig('cython_vs_python.png', transparent=True)\n",
    "    plt.show()\n",
    "    "
   ]
  },
  {
   "cell_type": "code",
   "execution_count": 32,
   "id": "a3f8be31",
   "metadata": {},
   "outputs": [
    {
     "data": {
      "image/png": "[encoded data removed]",
      "text/plain": [
       "<Figure size 1600x800 with 1 Axes>"
      ]
     },
     "metadata": {},
     "output_type": "display_data"
    }
   ],
   "source": [
    "plot_dependency(0, 1, range(1, 10), 1_000_000, save=True)"
   ]
  },
  {
   "cell_type": "markdown",
   "id": "651d75f1",
   "metadata": {
    "heading_collapsed": true
   },
   "source": [
    "## `Python & GIL & parallelism`"
   ]
  },
  {
   "cell_type": "code",
   "execution_count": 40,
   "id": "910bf5da",
   "metadata": {},
   "outputs": [],
   "source": [
    "import threading"
   ]
  },
  {
   "cell_type": "code",
   "execution_count": 41,
   "id": "d48f9a5a",
   "metadata": {
    "hidden": true
   },
   "outputs": [],
   "source": [
    "def increment(v):\n",
    "    for _ in range(v):\n",
    "        global x\n",
    "        x += 1"
   ]
  },
  {
   "cell_type": "code",
   "execution_count": 62,
   "id": "52d08d17",
   "metadata": {
    "hidden": true
   },
   "outputs": [
    {
     "name": "stdout",
     "output_type": "stream",
     "text": [
      "We are lucky\n"
     ]
    }
   ],
   "source": [
    "x = 0\n",
    "t1 = threading.Thread(target=increment, args=(100000, ))\n",
    "t2 = threading.Thread(target=increment, args=(100000, ))\n",
    "t1.start()\n",
    "t2.start()\n",
    "t1.join()\n",
    "t2.join()\n",
    "assert x == 100000 + 100000, f\"Oops :( x={x}\"\n",
    "print(\"We are lucky\")"
   ]
  },
  {
   "cell_type": "markdown",
   "id": "3d33ad5c",
   "metadata": {},
   "source": [
    "## `Thief Thread`"
   ]
  },
  {
   "cell_type": "code",
   "execution_count": 36,
   "id": "09de97ef",
   "metadata": {},
   "outputs": [],
   "source": [
    "class Money():\n",
    "    def __init__(self):\n",
    "        self.money: 'int' = 0\n",
    "        self._lock: 'threading.Lock' = threading.Lock()\n",
    "\n",
    "    def get(self, v: 'int') -> 'bool':\n",
    "        with self._lock:\n",
    "            if self.money >= v:\n",
    "                self.money -= v\n",
    "                print(f\"/* getting {v}$ */\")\n",
    "                return True\n",
    "            else:\n",
    "                print(f\"Sorry, not enough money ({v} vs {self.money})\")\n",
    "                return False\n",
    "                \n",
    "    def put(self, v: 'int') -> 'None':\n",
    "        with self._lock:\n",
    "            print(f\"/* putting {v}$ */\")\n",
    "            self.money += v\n",
    "                \n",
    "    def lock(self) -> 'None':\n",
    "        self._lock.acquire()\n",
    "        \n",
    "    def unlock(self) -> 'None':\n",
    "        self._lock.release()\n",
    "        \n",
    "    def get_state(self) -> 'None':\n",
    "        print(\n",
    "            {\n",
    "                \"lock is closed\": self._lock.locked(),\n",
    "                \"amount of money ($)\": self.money\n",
    "            }\n",
    "        )"
   ]
  },
  {
   "cell_type": "code",
   "execution_count": 37,
   "id": "303aec9c",
   "metadata": {},
   "outputs": [
    {
     "name": "stdout",
     "output_type": "stream",
     "text": [
      "/* putting 1000$ */\n",
      "{'lock is closed': True, 'amount of money ($)': 1000}\n"
     ]
    }
   ],
   "source": [
    "my_money = Money()\n",
    "my_money.put(1000)\n",
    "my_money.lock()\n",
    "my_money.get_state()"
   ]
  },
  {
   "cell_type": "code",
   "execution_count": 38,
   "id": "7756fb97",
   "metadata": {},
   "outputs": [],
   "source": [
    "def thief_thread():\n",
    "    print(\"[thief]: I am here.\")\n",
    "    my_money.get_state()\n",
    "    if my_money._lock.locked():\n",
    "        print(\"[thief]: Hm. It seems that money is locked. Lets unlock it ...\")\n",
    "        my_money.unlock()        \n",
    "    if my_money.get(1000 - 7):\n",
    "        print(\"[thief]: Easy\")\n",
    "    else:\n",
    "        print(\"[thied]: Very little money. I will leave it to the poor.\")\n",
    "    my_money.get_state()"
   ]
  },
  {
   "cell_type": "code",
   "execution_count": 39,
   "id": "c8f2e3af",
   "metadata": {},
   "outputs": [
    {
     "name": "stdout",
     "output_type": "stream",
     "text": [
      "[thief]: I am here.\n",
      "{'lock is closed': True, 'amount of money ($)': 1000}\n",
      "[thief]: Hm. It seems that money is locked. Lets unlock it ...\n",
      "/* getting 993$ */\n",
      "[thief]: Easy\n",
      "{'lock is closed': False, 'amount of money ($)': 7}\n"
     ]
    }
   ],
   "source": [
    "#print(\"[main thread]: money is locked\")\n",
    "t = threading.Thread(target=thief_thread)\n",
    "t.start()\n",
    "t.join()\n"
   ]
  },
  {
   "cell_type": "markdown",
   "id": "90f3730d",
   "metadata": {},
   "source": [
    "## `Unbouded Semaphore`"
   ]
  },
  {
   "cell_type": "code",
   "execution_count": 58,
   "id": "2c17e25c",
   "metadata": {},
   "outputs": [],
   "source": [
    "semaphore = threading.Semaphore(1)"
   ]
  },
  {
   "cell_type": "code",
   "execution_count": 59,
   "id": "958e0892",
   "metadata": {},
   "outputs": [],
   "source": [
    "def worker(thread_id):\n",
    "    with semaphore:\n",
    "        print(f\"Thread {thread_id} has acquired the semaphore and is working\", flush=True)\n",
    "        time.sleep(0.1)\n",
    "        print(f\"Thread {thread_id} is doing some work ...\", flush=True)\n",
    "        time.sleep(2)\n",
    "        print(f\"Thread {thread_id} has released the semaphore\", flush=True)\n",
    "        time.sleep(0.1)"
   ]
  },
  {
   "cell_type": "code",
   "execution_count": 60,
   "id": "8278fc2d",
   "metadata": {},
   "outputs": [],
   "source": [
    "def do_work():\n",
    "    threads = []\n",
    "    for i in range(3):\n",
    "        thread = threading.Thread(target=worker, args=(i, ))\n",
    "        threads.append(thread)\n",
    "        thread.start()\n",
    "        \n",
    "    for thread in threads:\n",
    "        thread.join()\n",
    "    print(\"All threads have finished\")\n"
   ]
  },
  {
   "cell_type": "code",
   "execution_count": 61,
   "id": "6e39116d",
   "metadata": {},
   "outputs": [
    {
     "name": "stdout",
     "output_type": "stream",
     "text": [
      "Thread 0 has acquired the semaphore and is working\n",
      "Thread 0 is doing some work ...\n",
      "Thread 0 has released the semaphore\n",
      "Thread 1 has acquired the semaphore and is working\n",
      "Thread 1 is doing some work ...\n",
      "Thread 1 has released the semaphore\n",
      "Thread 2 has acquired the semaphore and is working\n",
      "Thread 2 is doing some work ...\n",
      "Thread 2 has released the semaphore\n",
      "All threads have finished\n"
     ]
    }
   ],
   "source": [
    "do_work()"
   ]
  },
  {
   "cell_type": "code",
   "execution_count": null,
   "id": "b6ebfcbc",
   "metadata": {},
   "outputs": [],
   "source": []
  }
 ],
 "metadata": {
  "kernelspec": {
   "display_name": "Python 3 (ipykernel)",
   "language": "python",
   "name": "python3"
  },
  "language_info": {
   "codemirror_mode": {
    "name": "ipython",
    "version": 3
   },
   "file_extension": ".py",
   "mimetype": "text/x-python",
   "name": "python",
   "nbconvert_exporter": "python",
   "pygments_lexer": "ipython3",
   "version": "3.9.6"
  }
 },
 "nbformat": 4,
 "nbformat_minor": 5
}
