{
 "cells": [
  {
   "cell_type": "markdown",
   "id": "aff1d3ce-d1c5-4443-acc6-323df74040ec",
   "metadata": {},
   "source": [
    "## `Processes vs Threads`"
   ]
  },
  {
   "cell_type": "markdown",
   "metadata": {},
   "source": [
    "**Here we will look at how processes and threads in python allow (or don't) speed up the execution of two major classes of tasks -- cpu bound and input output bound. I have prepared functions that mimic these tasks in the `important_library.py` file. Feel free to take a look :)**"
   ]
  },
  {
   "cell_type": "code",
   "execution_count": 1,
   "id": "aa13ca61",
   "metadata": {},
   "outputs": [],
   "source": [
    "import time\n",
    "from concurrent import futures\n",
    "from tqdm import tqdm\n",
    "from important_library import io_task, cpu_task\n",
    "import psutil"
   ]
  },
  {
   "cell_type": "code",
   "execution_count": 2,
   "id": "cf2840c0-3833-45e3-b29b-02fcb3cde0aa",
   "metadata": {},
   "outputs": [],
   "source": [
    "def run_example(n_workers: 'int', n_tasks: 'int', workload: 'str', worker: 'str') -> 'None':\n",
    "    pool_executor = futures.ThreadPoolExecutor if worker == \"thread\" else futures.ProcessPoolExecutor\n",
    "    with pool_executor(n_workers) as executor:\n",
    "        routine = io_task if workload == \"io\" else cpu_task\n",
    "        tasks = [executor.submit(routine, ) for _ in range(n_tasks)]\n",
    "        for task in tqdm(futures.as_completed(tasks), total=len(tasks)):\n",
    "            _ = task.result()"
   ]
  },
  {
   "cell_type": "code",
   "execution_count": 3,
   "metadata": {},
   "outputs": [
    {
     "name": "stderr",
     "output_type": "stream",
     "text": [
      "100%|██████████| 24/24 [00:00<00:00, 87.65it/s] \n"
     ]
    },
    {
     "name": "stdout",
     "output_type": "stream",
     "text": [
      "[# threads = 1, # tasks = 24, workload = cpu]\n",
      "Total time 0.6310 s\n",
      "------------------------------------------------------------\n"
     ]
    },
    {
     "name": "stderr",
     "output_type": "stream",
     "text": [
      "100%|██████████| 24/24 [00:00<00:00, 139.97it/s]\n"
     ]
    },
    {
     "name": "stdout",
     "output_type": "stream",
     "text": [
      "[# threads = 2, # tasks = 24, workload = cpu]\n",
      "Total time 0.6166 s\n",
      "------------------------------------------------------------\n"
     ]
    },
    {
     "name": "stderr",
     "output_type": "stream",
     "text": [
      "100%|██████████| 24/24 [01:09<00:00,  2.89s/it]\n"
     ]
    },
    {
     "name": "stdout",
     "output_type": "stream",
     "text": [
      "[# threads = 1, # tasks = 24, workload = io]\n",
      "Total time 69.4541 s\n",
      "------------------------------------------------------------\n"
     ]
    },
    {
     "name": "stderr",
     "output_type": "stream",
     "text": [
      "100%|██████████| 24/24 [00:45<00:00,  1.89s/it]"
     ]
    },
    {
     "name": "stdout",
     "output_type": "stream",
     "text": [
      "[# threads = 2, # tasks = 24, workload = io]\n",
      "Total time 45.4068 s\n",
      "------------------------------------------------------------\n"
     ]
    },
    {
     "name": "stderr",
     "output_type": "stream",
     "text": [
      "\n"
     ]
    }
   ],
   "source": [
    "for workload in [\"cpu\", \"io\"]:\n",
    "    for n_workers, n_tasks in [(1, 24), (2, 24)]:\n",
    "        start = time.time()\n",
    "        run_example(n_workers=n_workers, n_tasks=n_tasks, workload=workload, worker=\"thread\")\n",
    "        print(f\"[# threads = {n_workers}, # tasks = {n_tasks}, workload = {workload}]\")\n",
    "        print(f\"Total time {time.time() - start:0.4f} s\")\n",
    "        print(\"-\" * 60)"
   ]
  },
  {
   "cell_type": "code",
   "execution_count": 4,
   "metadata": {},
   "outputs": [
    {
     "name": "stderr",
     "output_type": "stream",
     "text": [
      "  0%|          | 0/24 [00:00<?, ?it/s]"
     ]
    },
    {
     "name": "stderr",
     "output_type": "stream",
     "text": [
      "100%|██████████| 24/24 [00:00<00:00, 35.09it/s]"
     ]
    },
    {
     "name": "stdout",
     "output_type": "stream",
     "text": [
      "[# processes = 1, workload = cpu]\n",
      "Total time 0.7013 s\n",
      "------------------------------------------------------------\n"
     ]
    },
    {
     "name": "stderr",
     "output_type": "stream",
     "text": [
      "\n",
      "100%|██████████| 24/24 [00:00<00:00, 68.16it/s]"
     ]
    },
    {
     "name": "stdout",
     "output_type": "stream",
     "text": [
      "[# processes = 2, workload = cpu]\n",
      "Total time 0.3638 s\n",
      "------------------------------------------------------------\n"
     ]
    },
    {
     "name": "stderr",
     "output_type": "stream",
     "text": [
      "\n",
      "100%|██████████| 24/24 [01:09<00:00,  2.90s/it]"
     ]
    },
    {
     "name": "stdout",
     "output_type": "stream",
     "text": [
      "[# processes = 1, workload = io]\n",
      "Total time 69.5136 s\n",
      "------------------------------------------------------------\n"
     ]
    },
    {
     "name": "stderr",
     "output_type": "stream",
     "text": [
      "\n",
      "100%|██████████| 24/24 [00:48<00:00,  2.01s/it]"
     ]
    },
    {
     "name": "stdout",
     "output_type": "stream",
     "text": [
      "[# processes = 2, workload = io]\n",
      "Total time 48.2397 s\n",
      "------------------------------------------------------------\n"
     ]
    },
    {
     "name": "stderr",
     "output_type": "stream",
     "text": [
      "\n"
     ]
    }
   ],
   "source": [
    "for workload in [\"cpu\", \"io\"]:\n",
    "    for n_workers, n_tasks in [(1, 24), (2, 24)]:\n",
    "        start = time.time()\n",
    "        run_example(n_workers=n_workers, n_tasks=n_tasks, workload=workload, worker=\"process\")\n",
    "        print(f\"[# processes = {n_workers}, workload = {workload}]\")\n",
    "        print(f\"Total time {time.time() - start:0.4f} s\")\n",
    "        print(\"-\" * 60)"
   ]
  },
  {
   "cell_type": "markdown",
   "metadata": {},
   "source": [
    "**It's more faster and scalable to use processes in every way. What's the catch?**\n",
    "\n",
    "**Let's take a look at resource consumption ...**"
   ]
  },
  {
   "cell_type": "code",
   "execution_count": 5,
   "metadata": {},
   "outputs": [],
   "source": [
    "def print_mem():\n",
    "    total_memory = 0\n",
    "    for proc in psutil.process_iter(['pid', 'name', 'memory_info']):\n",
    "        if 'Python' in proc.info['name']:\n",
    "            total_memory += proc.info['memory_info'].rss\n",
    "    print(f\"Total Python's memory: {total_memory / 1024 / 1024} MB\")"
   ]
  },
  {
   "cell_type": "code",
   "execution_count": 12,
   "metadata": {},
   "outputs": [
    {
     "name": "stdout",
     "output_type": "stream",
     "text": [
      "the number of active python processes:\n",
      "3\n"
     ]
    }
   ],
   "source": [
    "!echo 'the number of active python processes:' && ps aux | grep '[p]ython' | wc -l | awk '{print $1}'"
   ]
  },
  {
   "cell_type": "code",
   "execution_count": 13,
   "metadata": {},
   "outputs": [
    {
     "name": "stdout",
     "output_type": "stream",
     "text": [
      "Total Python's memory: 61.703125 MB\n"
     ]
    }
   ],
   "source": [
    "print_mem()"
   ]
  },
  {
   "cell_type": "markdown",
   "metadata": {},
   "source": [
    "**Oh, shit! It's about `20mB` per process! Maybe we can make the threads and tasks work together somehow ? ;(**\n",
    "\n",
    "**To do it we need to understand the reason on problem. It is `GIL` (read my [post](link) for details or google it)**"
   ]
  },
  {
   "cell_type": "markdown",
   "id": "e1601821-3444-4caf-9d62-f953f6c6e21f",
   "metadata": {},
   "source": [
    "## `Execution workflow`"
   ]
  },
  {
   "cell_type": "code",
   "execution_count": 14,
   "metadata": {},
   "outputs": [],
   "source": [
    "import dis\n",
    "import py_compile\n",
    "import marshal"
   ]
  },
  {
   "cell_type": "markdown",
   "metadata": {},
   "source": [
    "**Let me show what is byte code of the function.**"
   ]
  },
  {
   "cell_type": "code",
   "execution_count": 15,
   "id": "6fb0596c-7917-4cb9-badc-5a9c35b054e4",
   "metadata": {},
   "outputs": [],
   "source": [
    "def print_slogan():\n",
    "    print(\"The real science\")"
   ]
  },
  {
   "cell_type": "code",
   "execution_count": 16,
   "metadata": {},
   "outputs": [
    {
     "name": "stdout",
     "output_type": "stream",
     "text": [
      "  2           0 LOAD_GLOBAL              0 (print)\n",
      "              2 LOAD_CONST               1 ('The real science')\n",
      "              4 CALL_FUNCTION            1\n",
      "              6 POP_TOP\n",
      "              8 LOAD_CONST               0 (None)\n",
      "             10 RETURN_VALUE\n"
     ]
    }
   ],
   "source": [
    "dis.dis(print_slogan)"
   ]
  },
  {
   "cell_type": "markdown",
   "metadata": {},
   "source": [
    "**Also we can call compile it by ourselves:**"
   ]
  },
  {
   "cell_type": "code",
   "execution_count": 17,
   "id": "c0009283-4179-4abf-9154-4b990d3c45b4",
   "metadata": {},
   "outputs": [
    {
     "name": "stdout",
     "output_type": "stream",
     "text": [
      "  1           0 SETUP_ANNOTATIONS\n",
      "              2 LOAD_CONST               0 (0)\n",
      "              4 LOAD_CONST               1 (None)\n",
      "              6 IMPORT_NAME              0 (time)\n",
      "              8 STORE_NAME               0 (time)\n",
      "\n",
      "  4          10 LOAD_CONST               2 (1000000)\n",
      "             12 STORE_NAME               1 (N_ITER)\n",
      "             14 LOAD_CONST               3 ('int')\n",
      "             16 LOAD_NAME                2 (__annotations__)\n",
      "             18 LOAD_CONST               4 ('N_ITER')\n",
      "             20 STORE_SUBSCR\n",
      "\n",
      "  7          22 LOAD_CONST               3 ('int')\n",
      "             24 LOAD_CONST               5 (('return',))\n",
      "             26 BUILD_CONST_KEY_MAP      1\n",
      "             28 LOAD_CONST               6 (<code object cpu_task at 0x107c267c0, file \"/Users/zinchse/GitHub/parallel_python/important_library.py\", line 7>)\n",
      "             30 LOAD_CONST               7 ('cpu_task')\n",
      "             32 MAKE_FUNCTION            4 (annotations)\n",
      "             34 STORE_NAME               3 (cpu_task)\n",
      "\n",
      " 15          36 LOAD_CONST               8 ('None')\n",
      "             38 LOAD_CONST               5 (('return',))\n",
      "             40 BUILD_CONST_KEY_MAP      1\n",
      "             42 LOAD_CONST               9 (<code object io_task at 0x107c26c90, file \"/Users/zinchse/GitHub/parallel_python/important_library.py\", line 15>)\n",
      "             44 LOAD_CONST              10 ('io_task')\n",
      "             46 MAKE_FUNCTION            4 (annotations)\n",
      "             48 STORE_NAME               4 (io_task)\n",
      "             50 LOAD_CONST               1 (None)\n",
      "             52 RETURN_VALUE\n",
      "\n",
      "Disassembly of <code object cpu_task at 0x107c267c0, file \"/Users/zinchse/GitHub/parallel_python/important_library.py\", line 7>:\n",
      "  8           0 LOAD_CONST               1 (0)\n",
      "              2 STORE_FAST               0 (res)\n",
      "\n",
      "  9           4 LOAD_GLOBAL              0 (range)\n",
      "              6 LOAD_GLOBAL              1 (N_ITER)\n",
      "              8 CALL_FUNCTION            1\n",
      "             10 GET_ITER\n",
      "        >>   12 FOR_ITER                20 (to 34)\n",
      "             14 STORE_FAST               1 (i)\n",
      "\n",
      " 10          16 LOAD_FAST                1 (i)\n",
      "             18 LOAD_CONST               2 (2023)\n",
      "             20 BINARY_MODULO\n",
      "             22 POP_JUMP_IF_TRUE        12\n",
      "\n",
      " 11          24 LOAD_FAST                0 (res)\n",
      "             26 LOAD_FAST                1 (i)\n",
      "             28 INPLACE_ADD\n",
      "             30 STORE_FAST               0 (res)\n",
      "             32 JUMP_ABSOLUTE           12\n",
      "\n",
      " 12     >>   34 LOAD_FAST                0 (res)\n",
      "             36 RETURN_VALUE\n",
      "\n",
      "Disassembly of <code object io_task at 0x107c26c90, file \"/Users/zinchse/GitHub/parallel_python/important_library.py\", line 15>:\n",
      " 16           0 LOAD_GLOBAL              0 (range)\n",
      "              2 LOAD_GLOBAL              1 (N_ITER)\n",
      "              4 CALL_FUNCTION            1\n",
      "              6 GET_ITER\n",
      "        >>    8 FOR_ITER                14 (to 24)\n",
      "             10 STORE_FAST               0 (i)\n",
      "\n",
      " 17          12 LOAD_GLOBAL              2 (time)\n",
      "             14 LOAD_METHOD              3 (sleep)\n",
      "             16 LOAD_CONST               1 (1e-08)\n",
      "             18 CALL_METHOD              1\n",
      "             20 POP_TOP\n",
      "             22 JUMP_ABSOLUTE            8\n",
      "        >>   24 LOAD_CONST               0 (None)\n",
      "             26 RETURN_VALUE\n"
     ]
    }
   ],
   "source": [
    "file = \"/Users/zinchse/GitHub/parallel_python/important_library.py\"\n",
    "path_to_compiled_file = py_compile.compile(file)\n",
    "\n",
    "with open(path_to_compiled_file, 'rb') as f:\n",
    "    f.read(16) \n",
    "    code = marshal.load(f)\n",
    "    dis.dis(code)"
   ]
  },
  {
   "cell_type": "code",
   "execution_count": 18,
   "id": "d640b293-2ad1-4237-825d-d68f5fec77bb",
   "metadata": {},
   "outputs": [
    {
     "name": "stdout",
     "output_type": "stream",
     "text": [
      "LOAD_GLOBAL\n",
      "LOAD_GLOBAL\n",
      "CALL_FUNCTION\n",
      "GET_ITER\n",
      "FOR_ITER\n",
      "STORE_FAST\n",
      "LOAD_GLOBAL\n",
      "LOAD_METHOD\n",
      "LOAD_CONST\n",
      "CALL_METHOD\n",
      "POP_TOP\n",
      "JUMP_ABSOLUTE\n",
      "LOAD_CONST\n",
      "RETURN_VALUE\n"
     ]
    }
   ],
   "source": [
    "for instr in dis.Bytecode(io_task):\n",
    "    print(instr.opname)"
   ]
  },
  {
   "cell_type": "markdown",
   "metadata": {},
   "source": [
    "**Hm. It really works!**"
   ]
  },
  {
   "cell_type": "markdown",
   "id": "b17aa2d1",
   "metadata": {},
   "source": [
    "## `Cython vs GIL`"
   ]
  },
  {
   "cell_type": "markdown",
   "metadata": {},
   "source": [
    "**To avoid `GIL`, as we already know (see link to post in `README`), we can rewrite the most heavily loaded part of the program in `Cython`, so that it no longer requires a lock interpreter for its execution, and can be truly parallelized on different processor cores. Let's do it!**"
   ]
  },
  {
   "cell_type": "markdown",
   "metadata": {},
   "source": [
    "### `Preparation`"
   ]
  },
  {
   "cell_type": "code",
   "execution_count": 19,
   "metadata": {},
   "outputs": [],
   "source": [
    "import numpy as np\n",
    "import matplotlib.pyplot as plt\n",
    "import numpy as np\n",
    "from timeit import repeat"
   ]
  },
  {
   "cell_type": "code",
   "execution_count": 20,
   "id": "505abcf5",
   "metadata": {},
   "outputs": [],
   "source": [
    "def master(l: 'int', r: 'int', n_jobs: 'int', n_steps: 'int', routine: 'Callable'): \n",
    "    subranges, subrange_length = [], (r - l) / n_jobs\n",
    "    cur_l = 0\n",
    "    for i in range(n_jobs):\n",
    "        cur_l = i * subrange_length\n",
    "        cur_r = (i + 1) * subrange_length\n",
    "        subranges.append((cur_l, cur_r))\n",
    "    \n",
    "    results = 0\n",
    "    with futures.ThreadPoolExecutor(n_jobs) as executor:\n",
    "        tasks = [executor.submit(routine, l, r, n_steps // n_jobs) for l, r in subranges]\n",
    "        for task in futures.as_completed(tasks):\n",
    "            results += task.result()\n",
    "    \n",
    "    return results"
   ]
  },
  {
   "cell_type": "markdown",
   "metadata": {},
   "source": [
    "**just remind, the integral of $x ^ 2$ on the range $[a, b]$ is $$(b ^ 3 - a ^ 3) \\cdot \\frac{1}{b - a}$$**"
   ]
  },
  {
   "cell_type": "markdown",
   "metadata": {},
   "source": [
    "**I have already written implementations of the integrate function in `Cython` and `Python` (see the files `integrate_square_c.pyx` and `integrate_square_py.py`, respectively).**\n",
    "\n",
    "**To use the C implementation, however, you must first compile it in a special way, and subload one library so that it can use the c code as if it were a regular python procedure:**"
   ]
  },
  {
   "cell_type": "code",
   "execution_count": 24,
   "metadata": {},
   "outputs": [],
   "source": [
    "!cythonize -i integrate_square_c\n",
    "import pyximport\n",
    "pyximport.install()\n",
    "# from integrate_square_c import inegrate_square as integrator_c\n",
    "import integrate_square_c\n",
    "integrator_c = integrate_square_c.integrate_square\n",
    "from integrate_square_py import integrate_square as integrator_py"
   ]
  },
  {
   "cell_type": "code",
   "execution_count": 25,
   "metadata": {},
   "outputs": [
    {
     "name": "stdout",
     "output_type": "stream",
     "text": [
      "Master with Python's implementation works\n"
     ]
    }
   ],
   "source": [
    "res = master(l=0, r=5, n_jobs=10, n_steps=1_000_000, routine=integrator_py)\n",
    "assert np.isclose(res, 5 ** 3 / 3), \"Need to increase `n_steps`!\"\n",
    "print(\"Master with Python's implementation works\")"
   ]
  },
  {
   "cell_type": "code",
   "execution_count": 26,
   "metadata": {},
   "outputs": [
    {
     "name": "stdout",
     "output_type": "stream",
     "text": [
      "Master with Cython's implementation works\n"
     ]
    }
   ],
   "source": [
    "res = master(l=0, r=5, n_jobs=10, n_steps=100_000_000, routine=integrator_c)\n",
    "assert np.isclose(res, 5 ** 3 / 3), \"Need to increase `n_steps`!\"\n",
    "print(\"Master with Cython's implementation works\")"
   ]
  },
  {
   "cell_type": "markdown",
   "metadata": {},
   "source": [
    "### `Let's compare them!`"
   ]
  },
  {
   "cell_type": "code",
   "execution_count": 27,
   "metadata": {},
   "outputs": [],
   "source": [
    "def plot_dependency(l: 'float', r: 'float', n_jobs_to_try: 'List[int]', n_steps: 'int', save: 'bool' = False):\n",
    "    py_times = []\n",
    "    c_times = []\n",
    "    \n",
    "    for n_jobs in n_jobs_to_try:\n",
    "        py_times.append(\n",
    "            1000 * np.mean(repeat(lambda: master(l, r, n_jobs, n_steps, integrator_py), number=1, repeat=10))\n",
    "        )\n",
    "        c_times.append(\n",
    "            1000 * np.mean(repeat(lambda: master(l, r, n_jobs, 100 * n_steps, integrator_c), number=1, repeat=10))\n",
    "        )\n",
    "    \n",
    "    plt.style.use(\"dark_background\")\n",
    "    _, ax = plt.subplots(1, 1, figsize=(16, 8))\n",
    "    plt.title(f\"Cython threads (\\wo GIL) vs Python threads (\\w GIL) on CPU bound task\")\n",
    "    for times, color, label in ((py_times, \"cyan\", \"Python\"), (c_times, \"orange\", \"Cython\")):\n",
    "        ax.plot(\n",
    "            n_jobs_to_try, times, marker='o', color=color,\n",
    "            label=label, alpha=0.8, linewidth=7, markersize=20\n",
    "        )\n",
    "    ax.set_xlabel('# Threads')\n",
    "    ax.set_ylabel('Time (ms)')\n",
    "    ax.grid(True)\n",
    "    ax.legend()\n",
    "    ax.set_xlim([0.5, n_jobs_to_try[-1] + 0.5])\n",
    "    ax.set_ylim([0.0, max(c_times + py_times) * 1.15])\n",
    "    if save:\n",
    "        ax.spines['top'].set_color('gray')\n",
    "        ax.spines['bottom'].set_color('gray')\n",
    "        ax.spines['left'].set_color('gray')\n",
    "        ax.spines['right'].set_color('gray')\n",
    "        ax.title.set_color('gray')\n",
    "        ax.xaxis.label.set_color('gray')\n",
    "        ax.yaxis.label.set_color('gray')\n",
    "        ax.grid(True, color='gray', linestyle='--', linewidth=0.5)\n",
    "        plt.savefig('cython_vs_python.png', transparent=True)\n",
    "    plt.show()\n",
    "    "
   ]
  },
  {
   "cell_type": "code",
   "execution_count": 28,
   "metadata": {},
   "outputs": [
    {
     "data": {
      "image/png": "[encoded data removed]",
      "text/plain": [
       "<Figure size 1600x800 with 1 Axes>"
      ]
     },
     "metadata": {},
     "output_type": "display_data"
    }
   ],
   "source": [
    "plot_dependency(0, 5, range(1, 10), 1_000_000, save=True)"
   ]
  },
  {
   "cell_type": "markdown",
   "metadata": {},
   "source": [
    "### `Conclusion`"
   ]
  },
  {
   "cell_type": "markdown",
   "metadata": {},
   "source": [
    "**`Cython` can really help us use threads in python to speed up CPU related tasks!**."
   ]
  },
  {
   "cell_type": "markdown",
   "metadata": {},
   "source": [
    "# Fun"
   ]
  },
  {
   "cell_type": "markdown",
   "id": "651d75f1",
   "metadata": {
    "heading_collapsed": true
   },
   "source": [
    "## `Python & GIL & parallelism`"
   ]
  },
  {
   "cell_type": "markdown",
   "metadata": {},
   "source": [
    "**Despite the fact that every thread holds a lock on the interpreter at runtime, race condition is still possible. Without further ado, let's just get it:**"
   ]
  },
  {
   "cell_type": "code",
   "execution_count": 29,
   "metadata": {},
   "outputs": [],
   "source": [
    "import threading"
   ]
  },
  {
   "cell_type": "code",
   "execution_count": 30,
   "id": "d48f9a5a",
   "metadata": {
    "hidden": true
   },
   "outputs": [],
   "source": [
    "def increment(v):\n",
    "    for _ in range(v):\n",
    "        global x\n",
    "        x += 1"
   ]
  },
  {
   "cell_type": "code",
   "execution_count": 43,
   "id": "52d08d17",
   "metadata": {
    "hidden": true
   },
   "outputs": [
    {
     "ename": "AssertionError",
     "evalue": "Oops :( x=1426306",
     "output_type": "error",
     "traceback": [
      "\u001b[0;31m---------------------------------------------------------------------------\u001b[0m",
      "\u001b[0;31mAssertionError\u001b[0m                            Traceback (most recent call last)",
      "\u001b[1;32m/Users/zinchse/GitHub/parallel_python/parallel python.ipynb Cell 41\u001b[0m line \u001b[0;36m8\n\u001b[1;32m      <a href='vscode-notebook-cell:/Users/zinchse/GitHub/parallel_python/parallel%20python.ipynb#X56sZmlsZQ%3D%3D?line=5'>6</a>\u001b[0m t1\u001b[39m.\u001b[39mjoin()\n\u001b[1;32m      <a href='vscode-notebook-cell:/Users/zinchse/GitHub/parallel_python/parallel%20python.ipynb#X56sZmlsZQ%3D%3D?line=6'>7</a>\u001b[0m t2\u001b[39m.\u001b[39mjoin()\n\u001b[0;32m----> <a href='vscode-notebook-cell:/Users/zinchse/GitHub/parallel_python/parallel%20python.ipynb#X56sZmlsZQ%3D%3D?line=7'>8</a>\u001b[0m \u001b[39massert\u001b[39;00m x \u001b[39m==\u001b[39m \u001b[39m1000000\u001b[39m \u001b[39m+\u001b[39m \u001b[39m1000000\u001b[39m, \u001b[39mf\u001b[39m\u001b[39m\"\u001b[39m\u001b[39mOops :( x=\u001b[39m\u001b[39m{\u001b[39;00mx\u001b[39m}\u001b[39;00m\u001b[39m\"\u001b[39m\n\u001b[1;32m      <a href='vscode-notebook-cell:/Users/zinchse/GitHub/parallel_python/parallel%20python.ipynb#X56sZmlsZQ%3D%3D?line=8'>9</a>\u001b[0m \u001b[39mprint\u001b[39m(\u001b[39m\"\u001b[39m\u001b[39mWe are lucky\u001b[39m\u001b[39m\"\u001b[39m)\n",
      "\u001b[0;31mAssertionError\u001b[0m: Oops :( x=1426306"
     ]
    }
   ],
   "source": [
    "x = 0\n",
    "t1 = threading.Thread(target=increment, args=(1000000, ))\n",
    "t2 = threading.Thread(target=increment, args=(1000000, ))\n",
    "t1.start()\n",
    "t2.start()\n",
    "t1.join()\n",
    "t2.join()\n",
    "assert x == 1000000 + 1000000, f\"Oops :( x={x}\"\n",
    "print(\"We are lucky\")"
   ]
  },
  {
   "cell_type": "markdown",
   "metadata": {},
   "source": [
    "## `Thief Thread`"
   ]
  },
  {
   "cell_type": "markdown",
   "metadata": {},
   "source": [
    "**Because of the fact that in python locks can be released by more than just their owner, any coroutines can release a lock for itself if desired.**"
   ]
  },
  {
   "cell_type": "code",
   "execution_count": 44,
   "metadata": {},
   "outputs": [],
   "source": [
    "class Money():\n",
    "    def __init__(self):\n",
    "        self.money: 'int' = 0\n",
    "        self._lock: 'threading.Lock' = threading.Lock()\n",
    "\n",
    "    def get(self, v: 'int') -> 'bool':\n",
    "        with self._lock:\n",
    "            if self.money >= v:\n",
    "                self.money -= v\n",
    "                print(f\"/* getting {v}$ */\")\n",
    "                return True\n",
    "            else:\n",
    "                print(f\"Sorry, not enough money ({v} vs {self.money})\")\n",
    "                return False\n",
    "                \n",
    "    def put(self, v: 'int') -> 'None':\n",
    "        with self._lock:\n",
    "            print(f\"/* putting {v}$ */\")\n",
    "            self.money += v\n",
    "                \n",
    "    def lock(self) -> 'None':\n",
    "        self._lock.acquire()\n",
    "        \n",
    "    def unlock(self) -> 'None':\n",
    "        self._lock.release()\n",
    "        \n",
    "    def get_state(self) -> 'None':\n",
    "        print(\n",
    "            {\n",
    "                \"lock is closed\": self._lock.locked(),\n",
    "                \"amount of money ($)\": self.money\n",
    "            }\n",
    "        )"
   ]
  },
  {
   "cell_type": "code",
   "execution_count": 45,
   "metadata": {},
   "outputs": [
    {
     "name": "stdout",
     "output_type": "stream",
     "text": [
      "/* putting 1000$ */\n",
      "{'lock is closed': True, 'amount of money ($)': 1000}\n"
     ]
    }
   ],
   "source": [
    "my_money = Money()\n",
    "my_money.put(1000)\n",
    "my_money.lock()\n",
    "my_money.get_state()"
   ]
  },
  {
   "cell_type": "code",
   "execution_count": 46,
   "metadata": {},
   "outputs": [],
   "source": [
    "def thief_thread():\n",
    "    print(\"[thief]: I am here.\")\n",
    "    my_money.get_state()\n",
    "    if my_money._lock.locked():\n",
    "        print(\"[thief]: Hm. It seems that money is locked. Lets unlock it ...\")\n",
    "        my_money.unlock()        \n",
    "    if my_money.get(1000 - 7):\n",
    "        print(\"[thief]: Easy\")\n",
    "    else:\n",
    "        print(\"[thied]: Very little money. I will leave it to the poor.\")\n",
    "    my_money.get_state()"
   ]
  },
  {
   "cell_type": "code",
   "execution_count": 47,
   "metadata": {},
   "outputs": [
    {
     "name": "stdout",
     "output_type": "stream",
     "text": [
      "[thief]: I am here.\n",
      "{'lock is closed': True, 'amount of money ($)': 1000}\n",
      "[thief]: Hm. It seems that money is locked. Lets unlock it ...\n",
      "/* getting 993$ */\n",
      "[thief]: Easy\n",
      "{'lock is closed': False, 'amount of money ($)': 7}\n"
     ]
    }
   ],
   "source": [
    "t = threading.Thread(target=thief_thread)\n",
    "t.start()\n",
    "t.join()"
   ]
  },
  {
   "cell_type": "markdown",
   "metadata": {},
   "source": [
    "## `Unbouded Semaphore`"
   ]
  },
  {
   "cell_type": "markdown",
   "metadata": {},
   "source": [
    "**Similarly with semaphores. They can be released even if you don't own them. Because of this, a 1-semaphora that should logically work as a loc can exhibit very different behavior ...**"
   ]
  },
  {
   "cell_type": "code",
   "execution_count": 52,
   "metadata": {},
   "outputs": [],
   "source": [
    "semaphore = threading.Semaphore(1)"
   ]
  },
  {
   "cell_type": "code",
   "execution_count": 53,
   "metadata": {},
   "outputs": [],
   "source": [
    "def worker(thread_id):\n",
    "    with semaphore:\n",
    "        print(f\"Thread {thread_id} has acquired the semaphore and is working\", flush=True)\n",
    "        time.sleep(0.1)\n",
    "        print(f\"Thread {thread_id} is doing some work ...\", flush=True)\n",
    "        time.sleep(2)\n",
    "        print(f\"Thread {thread_id} has released the semaphore\", flush=True)\n",
    "        time.sleep(0.1)"
   ]
  },
  {
   "cell_type": "code",
   "execution_count": 54,
   "metadata": {},
   "outputs": [],
   "source": [
    "def do_work(use_bug: 'bool'):\n",
    "    if use_bug:\n",
    "        for _ in range(2):\n",
    "            semaphore.release(1)\n",
    "    threads = []\n",
    "    for i in range(3):\n",
    "        thread = threading.Thread(target=worker, args=(i, ))\n",
    "        threads.append(thread)\n",
    "        thread.start()\n",
    "        \n",
    "    for thread in threads:\n",
    "        thread.join()\n",
    "    print(\"All threads have finished\")"
   ]
  },
  {
   "cell_type": "code",
   "execution_count": 55,
   "metadata": {},
   "outputs": [
    {
     "name": "stdout",
     "output_type": "stream",
     "text": [
      "Thread 0 has acquired the semaphore and is working\n",
      "Thread 0 is doing some work ...\n",
      "Thread 0 has released the semaphore\n",
      "Thread 1 has acquired the semaphore and is working\n",
      "Thread 1 is doing some work ...\n",
      "Thread 1 has released the semaphore\n",
      "Thread 2 has acquired the semaphore and is working\n",
      "Thread 2 is doing some work ...\n",
      "Thread 2 has released the semaphore\n",
      "All threads have finished\n"
     ]
    }
   ],
   "source": [
    "do_work(use_bug=False)"
   ]
  },
  {
   "cell_type": "markdown",
   "metadata": {},
   "source": [
    "**We see, that basicly `Semaphore(1)` works like `Lock` (as exptected), but ...**"
   ]
  },
  {
   "cell_type": "code",
   "execution_count": 56,
   "metadata": {},
   "outputs": [],
   "source": [
    "semaphore = threading.Semaphore(1)"
   ]
  },
  {
   "cell_type": "code",
   "execution_count": 57,
   "metadata": {},
   "outputs": [
    {
     "name": "stdout",
     "output_type": "stream",
     "text": [
      "Thread 0 has acquired the semaphore and is working\n",
      "Thread 1 has acquired the semaphore and is working\n",
      "Thread 2 has acquired the semaphore and is working\n",
      "Thread 1 is doing some work ...\n",
      "Thread 0 is doing some work ...Thread 2 is doing some work ...\n",
      "\n",
      "Thread 1 has released the semaphore\n",
      "Thread 2 has released the semaphoreThread 0 has released the semaphore\n",
      "\n",
      "All threads have finished\n"
     ]
    }
   ],
   "source": [
    "do_work(use_bug=True)"
   ]
  },
  {
   "cell_type": "markdown",
   "metadata": {},
   "source": [
    "**With `use_bug=True` it doesn't work as `Lock`!**"
   ]
  },
  {
   "cell_type": "markdown",
   "metadata": {},
   "source": [
    "### `Conclusion`"
   ]
  },
  {
   "cell_type": "markdown",
   "metadata": {},
   "source": [
    "**If you want to read more about what went on here, you can read my post (see `README`), there are also links to all the resources used and more detailed sources of information. You can also check out the presentation in this repository**."
   ]
  },
  {
   "cell_type": "markdown",
   "metadata": {},
   "source": []
  }
 ],
 "metadata": {
  "kernelspec": {
   "display_name": "Python 3 (ipykernel)",
   "language": "python",
   "name": "python3"
  },
  "language_info": {
   "codemirror_mode": {
    "name": "ipython",
    "version": 3
   },
   "file_extension": ".py",
   "mimetype": "text/x-python",
   "name": "python",
   "nbconvert_exporter": "python",
   "pygments_lexer": "ipython3",
   "version": "3.9.6"
  }
 },
 "nbformat": 4,
 "nbformat_minor": 5
}
